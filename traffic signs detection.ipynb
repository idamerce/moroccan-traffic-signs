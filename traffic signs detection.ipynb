{
 "cells": [
  {
   "cell_type": "code",
   "execution_count": 22,
   "metadata": {},
   "outputs": [],
   "source": [
    "import cv2\n",
    "import time\n",
    "import numpy as np\n",
    "import urllib.request\n",
    "\n",
    " "
   ]
  },
  {
   "cell_type": "code",
   "execution_count": 47,
   "metadata": {},
   "outputs": [
    {
     "name": "stdout",
     "output_type": "stream",
     "text": [
      "done\n"
     ]
    }
   ],
   "source": [
    "cascad_src='myTrafficSignsHaar.xml'\n",
    "video_name=\"traffic.avi\"\n",
    "\n",
    "#video url\n",
    "video_src=\"https://r5---sn-5hne6nsd.googlevideo.com/videoplayback?expire=1597610768&ei=sEY5X5nECo2D1wKmj5ugCA&ip=95.174.67.50&id=o-AOtzzLjLxTkRDEmu_P7WjKymU46N485ahYOOsiGahVAy&itag=18&source=youtube&requiressl=yes&vprv=1&mime=video%2Fmp4&gir=yes&clen=10273486&ratebypass=yes&dur=192.725&lmt=1584074331937402&fvip=5&fexp=23812954,23883098&c=WEB&txp=6216222&sparams=expire%2Cei%2Cip%2Cid%2Citag%2Csource%2Crequiressl%2Cvprv%2Cmime%2Cgir%2Cclen%2Cratebypass%2Cdur%2Clmt&sig=AOq0QJ8wRgIhAObFH1BXxikqqH2LP5Sy1GnKLswUTakXRTqIK6ckWrLvAiEAnCi3jYViGW6oIBlfCz648nQEtHvKScDSwZgNZALZu00%3D&video_id=9XWPgXfaXlk&title=Roadway+System+and+Traffic+Signs+crafts+and+activities+for+Kids+-+DIY+Traffic+sign%F0%9F%9A%A6%F0%9F%9B%91%E2%9B%94%EF%B8%8F&rm=sn-4g5e6y76&req_id=ddc4eb1cd792a3ee&ipbypass=yes&cm2rm=sn-p5h-jhod7z,sn-5hnelr7e&redirect_counter=3&cms_redirect=yes&mh=JR&mip=196.74.55.155&mm=34&mn=sn-5hne6nsd&ms=ltu&mt=1597589128&mv=m&mvi=5&pl=21&lsparams=ipbypass,mh,mip,mm,mn,ms,mv,mvi,pl&lsig=AG3C_xAwRAIgJV_ZSMLiiH6LttVrTtrf2L-hkaPwavvhk95BbjpvTYQCIH-oGt8a4bANjSvk_RmKAj-vzdx73nSe3sr7DaoRF_Bq\"\n",
    "#urllib.request.urlretrieve(video_src, video_name)\n",
    "print(\"done\")\n",
    "  "
   ]
  },
  {
   "cell_type": "code",
   "execution_count": 49,
   "metadata": {},
   "outputs": [],
   "source": [
    "import math\n",
    "\n",
    "try:\n",
    "    sign_cascad = cv2.CascadeClassifier(cascad_src)\n",
    "    vs = cv2.VideoCapture(video_name)\n",
    "except:\n",
    "    print(\"error\")\n",
    "   \n",
    "def nothing():\n",
    "    pass\n",
    "\n",
    "\n"
   ]
  },
  {
   "cell_type": "code",
   "execution_count": 50,
   "metadata": {},
   "outputs": [
    {
     "name": "stdout",
     "output_type": "stream",
     "text": [
      "  360 640\n",
      "---> 0\n",
      "  360 640\n",
      "---> 1\n",
      "  360 640\n",
      "---> 2\n",
      "  360 640\n",
      "---> 3\n",
      "  360 640\n",
      "---> 4\n",
      "  360 640\n",
      "---> 5\n",
      "  360 640\n",
      "---> 6\n",
      "  360 640\n",
      "---> 7\n",
      "  360 640\n",
      "---> 8\n",
      "  360 640\n",
      "---> 9\n",
      "  360 640\n",
      "---> 10\n",
      "  360 640\n",
      "---> 11\n",
      "  360 640\n",
      "---> 12\n",
      "  360 640\n",
      "---> 13\n",
      "  360 640\n",
      "---> 14\n",
      "  360 640\n",
      "---> 15\n",
      "  360 640\n",
      "---> 16\n",
      "  360 640\n",
      "---> 17\n",
      "  360 640\n",
      "---> 18\n",
      "  360 640\n",
      "---> 19\n",
      "  360 640\n",
      "---> 20\n",
      "  360 640\n",
      "---> 21\n",
      "  360 640\n",
      "---> 22\n",
      "  360 640\n",
      "---> 23\n",
      "  360 640\n",
      "---> 24\n",
      "  360 640\n",
      "---> 25\n",
      "  360 640\n",
      "---> 26\n",
      "  360 640\n",
      "---> 27\n",
      "  360 640\n",
      "---> 28\n",
      "  360 640\n",
      "---> 29\n",
      "  360 640\n",
      "---> 30\n",
      "  360 640\n",
      "---> 31\n",
      "  360 640\n",
      "---> 32\n",
      "  360 640\n",
      "---> 33\n",
      "  360 640\n",
      "---> 34\n",
      "  360 640\n",
      "---> 35\n",
      "  360 640\n",
      "---> 36\n",
      "  360 640\n",
      "---> 37\n",
      "  360 640\n",
      "---> 38\n",
      "  360 640\n",
      "---> 39\n",
      "  360 640\n",
      "---> 40\n",
      "  360 640\n",
      "---> 41\n",
      "  360 640\n",
      "---> 42\n",
      "  360 640\n",
      "---> 43\n",
      "  360 640\n",
      "---> 44\n",
      "  360 640\n",
      "---> 45\n",
      "  360 640\n",
      "---> 46\n",
      "  360 640\n",
      "---> 47\n",
      "  360 640\n",
      "---> 48\n",
      "  360 640\n",
      "---> 49\n",
      "  360 640\n",
      "---> 50\n",
      "  360 640\n",
      "---> 51\n",
      "  360 640\n",
      "---> 52\n",
      "  360 640\n",
      "---> 53\n",
      "  360 640\n",
      "---> 54\n",
      "  360 640\n",
      "---> 55\n",
      "  360 640\n",
      "---> 56\n",
      "  360 640\n",
      "---> 57\n",
      "  360 640\n",
      "---> 58\n",
      "  360 640\n",
      "---> 59\n",
      "  360 640\n",
      "---> 60\n",
      "  360 640\n",
      "---> 61\n"
     ]
    }
   ],
   "source": [
    "i=0\n",
    "while True:\n",
    "    success,img = vs.read()\n",
    "    if(type(img) == type(None) or not success):\n",
    "        break\n",
    "    height, width = img.shape[:2]\n",
    "    print(\" \",height, width) \n",
    "    start_row, start_col = int(0), int(0)\n",
    "    end_row, end_col = int(height * .5), width\n",
    "    img_ = img[start_row:end_row , start_col:end_col]\n",
    "    #cv2.rectangle(img_,(start_row,start_col) ,(start_row+end_row,start_col+end_col),(0,255,0),2)\n",
    "    gray = cv2.cvtColor(img_,cv2.COLOR_BGR2GRAY)    \n",
    "    signs = sign_cascad.detectMultiScale(gray,1.4,5) #\n",
    "    for(x,y,w,h) in signs:\n",
    "        cv2.rectangle(img,(x,y) ,(x+w,y+h),(0,0,255),2)\n",
    "    cv2.imshow('traffic',img)\n",
    "    print(\"--->\",i)\n",
    "    i=i+1\n",
    "    if cv2.waitKey(33)==27:\n",
    "        break\n"
   ]
  },
  {
   "cell_type": "code",
   "execution_count": 72,
   "metadata": {},
   "outputs": [
    {
     "name": "stdout",
     "output_type": "stream",
     "text": [
      "---> 1463 1700\n"
     ]
    }
   ],
   "source": [
    "vs.release()\n",
    "cv2.destroyAllWindows()"
   ]
  },
  {
   "cell_type": "code",
   "execution_count": null,
   "metadata": {},
   "outputs": [],
   "source": []
  },
  {
   "cell_type": "code",
   "execution_count": null,
   "metadata": {},
   "outputs": [],
   "source": []
  },
  {
   "cell_type": "code",
   "execution_count": null,
   "metadata": {},
   "outputs": [],
   "source": []
  }
 ],
 "metadata": {
  "kernelspec": {
   "display_name": "Python 3",
   "language": "python",
   "name": "python3"
  },
  "language_info": {
   "codemirror_mode": {
    "name": "ipython",
    "version": 3
   },
   "file_extension": ".py",
   "mimetype": "text/x-python",
   "name": "python",
   "nbconvert_exporter": "python",
   "pygments_lexer": "ipython3",
   "version": "3.7.4"
  }
 },
 "nbformat": 4,
 "nbformat_minor": 4
}
